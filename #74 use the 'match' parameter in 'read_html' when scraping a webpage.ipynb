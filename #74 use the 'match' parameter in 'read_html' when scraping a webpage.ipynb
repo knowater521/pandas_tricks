{
 "cells": [
  {
   "cell_type": "code",
   "execution_count": 1,
   "metadata": {},
   "outputs": [],
   "source": [
    "import pandas as pd  "
   ]
  },
  {
   "cell_type": "code",
   "execution_count": 2,
   "metadata": {},
   "outputs": [],
   "source": [
    "url = \"https://en.wikipedia.org/wiki/Twitter\""
   ]
  },
  {
   "cell_type": "code",
   "execution_count": 3,
   "metadata": {},
   "outputs": [
    {
     "data": {
      "text/plain": [
       "17"
      ]
     },
     "execution_count": 3,
     "metadata": {},
     "output_type": "execute_result"
    }
   ],
   "source": [
    "tables = pd.read_html(url)\n",
    "len(tables)"
   ]
  },
  {
   "cell_type": "code",
   "execution_count": 4,
   "metadata": {},
   "outputs": [
    {
     "data": {
      "text/plain": [
       "1"
      ]
     },
     "execution_count": 4,
     "metadata": {},
     "output_type": "execute_result"
    }
   ],
   "source": [
    "martching_tables = pd.read_html(url,match='Followers')\n",
    "len(martching_tables)"
   ]
  },
  {
   "cell_type": "code",
   "execution_count": 5,
   "metadata": {},
   "outputs": [
    {
     "data": {
      "text/html": [
       "<div>\n",
       "<style scoped>\n",
       "    .dataframe tbody tr th:only-of-type {\n",
       "        vertical-align: middle;\n",
       "    }\n",
       "\n",
       "    .dataframe tbody tr th {\n",
       "        vertical-align: top;\n",
       "    }\n",
       "\n",
       "    .dataframe thead th {\n",
       "        text-align: right;\n",
       "    }\n",
       "</style>\n",
       "<table border=\"1\" class=\"dataframe\">\n",
       "  <thead>\n",
       "    <tr style=\"text-align: right;\">\n",
       "      <th></th>\n",
       "      <th>Rank</th>\n",
       "      <th>Change (monthly)</th>\n",
       "      <th>Account name</th>\n",
       "      <th>Owner</th>\n",
       "      <th>Followers (millions)</th>\n",
       "      <th>Activity</th>\n",
       "      <th>Country</th>\n",
       "    </tr>\n",
       "  </thead>\n",
       "  <tbody>\n",
       "    <tr>\n",
       "      <th>0</th>\n",
       "      <td>1.0</td>\n",
       "      <td>NaN</td>\n",
       "      <td>@BarackObama</td>\n",
       "      <td>Barack Obama</td>\n",
       "      <td>108</td>\n",
       "      <td>Former U.S. President</td>\n",
       "      <td>USA</td>\n",
       "    </tr>\n",
       "    <tr>\n",
       "      <th>1</th>\n",
       "      <td>2.0</td>\n",
       "      <td>NaN</td>\n",
       "      <td>@katyperry</td>\n",
       "      <td>Katy Perry</td>\n",
       "      <td>108</td>\n",
       "      <td>Musician</td>\n",
       "      <td>USA</td>\n",
       "    </tr>\n",
       "    <tr>\n",
       "      <th>2</th>\n",
       "      <td>3.0</td>\n",
       "      <td>NaN</td>\n",
       "      <td>@justinbieber</td>\n",
       "      <td>Justin Bieber</td>\n",
       "      <td>106</td>\n",
       "      <td>Musician</td>\n",
       "      <td>CAN</td>\n",
       "    </tr>\n",
       "    <tr>\n",
       "      <th>3</th>\n",
       "      <td>4.0</td>\n",
       "      <td>NaN</td>\n",
       "      <td>@rihanna</td>\n",
       "      <td>Rihanna</td>\n",
       "      <td>93</td>\n",
       "      <td>Musician</td>\n",
       "      <td>BAR</td>\n",
       "    </tr>\n",
       "    <tr>\n",
       "      <th>4</th>\n",
       "      <td>5.0</td>\n",
       "      <td>NaN</td>\n",
       "      <td>@taylorswift13</td>\n",
       "      <td>Taylor Swift</td>\n",
       "      <td>84</td>\n",
       "      <td>Musician</td>\n",
       "      <td>USA</td>\n",
       "    </tr>\n",
       "    <tr>\n",
       "      <th>5</th>\n",
       "      <td>6.0</td>\n",
       "      <td>NaN</td>\n",
       "      <td>@Cristiano</td>\n",
       "      <td>Cristiano Ronaldo</td>\n",
       "      <td>79</td>\n",
       "      <td>Footballer</td>\n",
       "      <td>POR</td>\n",
       "    </tr>\n",
       "    <tr>\n",
       "      <th>6</th>\n",
       "      <td>7.0</td>\n",
       "      <td>NaN</td>\n",
       "      <td>@ladygaga</td>\n",
       "      <td>Lady Gaga</td>\n",
       "      <td>79</td>\n",
       "      <td>Musician and actress</td>\n",
       "      <td>USA</td>\n",
       "    </tr>\n",
       "    <tr>\n",
       "      <th>7</th>\n",
       "      <td>8.0</td>\n",
       "      <td>NaN</td>\n",
       "      <td>@TheEllenShow</td>\n",
       "      <td>Ellen DeGeneres</td>\n",
       "      <td>78</td>\n",
       "      <td>Comedian</td>\n",
       "      <td>USA</td>\n",
       "    </tr>\n",
       "    <tr>\n",
       "      <th>8</th>\n",
       "      <td>9.0</td>\n",
       "      <td>NaN</td>\n",
       "      <td>@YouTube</td>\n",
       "      <td>YouTube</td>\n",
       "      <td>72</td>\n",
       "      <td>Online video platform</td>\n",
       "      <td>USA</td>\n",
       "    </tr>\n",
       "    <tr>\n",
       "      <th>9</th>\n",
       "      <td>10.0</td>\n",
       "      <td>NaN</td>\n",
       "      <td>@jtimberlake</td>\n",
       "      <td>Justin Timberlake</td>\n",
       "      <td>65</td>\n",
       "      <td>Musician and actor</td>\n",
       "      <td>USA</td>\n",
       "    </tr>\n",
       "  </tbody>\n",
       "</table>\n",
       "</div>"
      ],
      "text/plain": [
       "   Rank  Change (monthly)    Account name              Owner  \\\n",
       "0   1.0               NaN    @BarackObama       Barack Obama   \n",
       "1   2.0               NaN      @katyperry         Katy Perry   \n",
       "2   3.0               NaN   @justinbieber      Justin Bieber   \n",
       "3   4.0               NaN        @rihanna            Rihanna   \n",
       "4   5.0               NaN  @taylorswift13       Taylor Swift   \n",
       "5   6.0               NaN      @Cristiano  Cristiano Ronaldo   \n",
       "6   7.0               NaN       @ladygaga          Lady Gaga   \n",
       "7   8.0               NaN   @TheEllenShow    Ellen DeGeneres   \n",
       "8   9.0               NaN        @YouTube            YouTube   \n",
       "9  10.0               NaN    @jtimberlake  Justin Timberlake   \n",
       "\n",
       "   Followers (millions)               Activity Country  \n",
       "0                   108  Former U.S. President     USA  \n",
       "1                   108               Musician     USA  \n",
       "2                   106               Musician     CAN  \n",
       "3                    93               Musician     BAR  \n",
       "4                    84               Musician     USA  \n",
       "5                    79             Footballer     POR  \n",
       "6                    79   Musician and actress     USA  \n",
       "7                    78               Comedian     USA  \n",
       "8                    72  Online video platform     USA  \n",
       "9                    65     Musician and actor     USA  "
      ]
     },
     "execution_count": 5,
     "metadata": {},
     "output_type": "execute_result"
    }
   ],
   "source": [
    "martching_tables[0] "
   ]
  }
 ],
 "metadata": {
  "kernelspec": {
   "display_name": "Python 3",
   "language": "python",
   "name": "python3"
  },
  "language_info": {
   "codemirror_mode": {
    "name": "ipython",
    "version": 3
   },
   "file_extension": ".py",
   "mimetype": "text/x-python",
   "name": "python",
   "nbconvert_exporter": "python",
   "pygments_lexer": "ipython3",
   "version": "3.7.1"
  }
 },
 "nbformat": 4,
 "nbformat_minor": 2
}
