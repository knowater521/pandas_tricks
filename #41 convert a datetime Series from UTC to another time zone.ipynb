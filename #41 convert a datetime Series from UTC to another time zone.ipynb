{
 "cells": [
  {
   "cell_type": "code",
   "execution_count": 1,
   "metadata": {},
   "outputs": [],
   "source": [
    "import pandas as pd   "
   ]
  },
  {
   "cell_type": "markdown",
   "metadata": {},
   "source": [
    "## Series in datetime format "
   ]
  },
  {
   "cell_type": "code",
   "execution_count": 2,
   "metadata": {},
   "outputs": [
    {
     "data": {
      "text/plain": [
       "0   2019-03-10 05:00:00\n",
       "1   2019-03-10 06:00:00\n",
       "2   2019-03-10 07:00:00\n",
       "3   2019-03-10 08:00:00\n",
       "4   2019-03-10 09:00:00\n",
       "5   2019-03-10 10:00:00\n",
       "dtype: datetime64[ns]"
      ]
     },
     "execution_count": 2,
     "metadata": {},
     "output_type": "execute_result"
    }
   ],
   "source": [
    "s = pd.Series(range(1552194000,1552212001,3600)) \n",
    "s = pd.to_datetime(s, unit='s') \n",
    "s "
   ]
  },
  {
   "cell_type": "markdown",
   "metadata": {},
   "source": [
    "## Explicity set current time zone "
   ]
  },
  {
   "cell_type": "code",
   "execution_count": 3,
   "metadata": {},
   "outputs": [
    {
     "data": {
      "text/plain": [
       "0   2019-03-10 05:00:00+00:00\n",
       "1   2019-03-10 06:00:00+00:00\n",
       "2   2019-03-10 07:00:00+00:00\n",
       "3   2019-03-10 08:00:00+00:00\n",
       "4   2019-03-10 09:00:00+00:00\n",
       "5   2019-03-10 10:00:00+00:00\n",
       "dtype: datetime64[ns, UTC]"
      ]
     },
     "execution_count": 3,
     "metadata": {},
     "output_type": "execute_result"
    }
   ],
   "source": [
    "s = s.dt.tz_localize('UTC')  \n",
    "s  "
   ]
  },
  {
   "cell_type": "markdown",
   "metadata": {},
   "source": [
    "## Convert to another time zone  "
   ]
  },
  {
   "cell_type": "code",
   "execution_count": 4,
   "metadata": {},
   "outputs": [
    {
     "data": {
      "text/plain": [
       "0   2019-03-09 23:00:00-06:00\n",
       "1   2019-03-10 00:00:00-06:00\n",
       "2   2019-03-10 01:00:00-06:00\n",
       "3   2019-03-10 03:00:00-05:00\n",
       "4   2019-03-10 04:00:00-05:00\n",
       "5   2019-03-10 05:00:00-05:00\n",
       "dtype: datetime64[ns, America/Chicago]"
      ]
     },
     "execution_count": 4,
     "metadata": {},
     "output_type": "execute_result"
    }
   ],
   "source": [
    "s.dt.tz_convert('America/Chicago') "
   ]
  },
  {
   "cell_type": "code",
   "execution_count": 5,
   "metadata": {},
   "outputs": [
    {
     "data": {
      "text/plain": [
       "0   2019-03-10 13:00:00+08:00\n",
       "1   2019-03-10 14:00:00+08:00\n",
       "2   2019-03-10 15:00:00+08:00\n",
       "3   2019-03-10 16:00:00+08:00\n",
       "4   2019-03-10 17:00:00+08:00\n",
       "5   2019-03-10 18:00:00+08:00\n",
       "dtype: datetime64[ns, Asia/Shanghai]"
      ]
     },
     "execution_count": 5,
     "metadata": {},
     "output_type": "execute_result"
    }
   ],
   "source": [
    "s.dt.tz_convert('Asia/Shanghai') "
   ]
  }
 ],
 "metadata": {
  "kernelspec": {
   "display_name": "Python 3",
   "language": "python",
   "name": "python3"
  },
  "language_info": {
   "codemirror_mode": {
    "name": "ipython",
    "version": 3
   },
   "file_extension": ".py",
   "mimetype": "text/x-python",
   "name": "python",
   "nbconvert_exporter": "python",
   "pygments_lexer": "ipython3",
   "version": "3.7.1"
  }
 },
 "nbformat": 4,
 "nbformat_minor": 2
}
