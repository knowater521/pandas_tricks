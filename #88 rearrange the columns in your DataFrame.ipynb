{
 "cells": [
  {
   "cell_type": "code",
   "execution_count": 1,
   "metadata": {},
   "outputs": [],
   "source": [
    "import pandas as pd  \n",
    "import numpy as np "
   ]
  },
  {
   "cell_type": "code",
   "execution_count": 2,
   "metadata": {},
   "outputs": [],
   "source": [
    "df = pd.DataFrame(np.random.randn(2,8),columns=list('ABCDEFGH'))"
   ]
  },
  {
   "cell_type": "code",
   "execution_count": 3,
   "metadata": {},
   "outputs": [
    {
     "data": {
      "text/html": [
       "<div>\n",
       "<style scoped>\n",
       "    .dataframe tbody tr th:only-of-type {\n",
       "        vertical-align: middle;\n",
       "    }\n",
       "\n",
       "    .dataframe tbody tr th {\n",
       "        vertical-align: top;\n",
       "    }\n",
       "\n",
       "    .dataframe thead th {\n",
       "        text-align: right;\n",
       "    }\n",
       "</style>\n",
       "<table border=\"1\" class=\"dataframe\">\n",
       "  <thead>\n",
       "    <tr style=\"text-align: right;\">\n",
       "      <th></th>\n",
       "      <th>A</th>\n",
       "      <th>B</th>\n",
       "      <th>C</th>\n",
       "      <th>D</th>\n",
       "      <th>E</th>\n",
       "      <th>F</th>\n",
       "      <th>G</th>\n",
       "      <th>H</th>\n",
       "    </tr>\n",
       "  </thead>\n",
       "  <tbody>\n",
       "    <tr>\n",
       "      <th>0</th>\n",
       "      <td>-1.234045</td>\n",
       "      <td>0.231502</td>\n",
       "      <td>-0.429188</td>\n",
       "      <td>1.643448</td>\n",
       "      <td>-0.454964</td>\n",
       "      <td>-0.355146</td>\n",
       "      <td>-0.292078</td>\n",
       "      <td>-0.899751</td>\n",
       "    </tr>\n",
       "    <tr>\n",
       "      <th>1</th>\n",
       "      <td>-1.797889</td>\n",
       "      <td>-1.009833</td>\n",
       "      <td>-0.620726</td>\n",
       "      <td>-2.144312</td>\n",
       "      <td>-0.183314</td>\n",
       "      <td>2.675217</td>\n",
       "      <td>-0.227407</td>\n",
       "      <td>0.262857</td>\n",
       "    </tr>\n",
       "  </tbody>\n",
       "</table>\n",
       "</div>"
      ],
      "text/plain": [
       "          A         B         C         D         E         F         G  \\\n",
       "0 -1.234045  0.231502 -0.429188  1.643448 -0.454964 -0.355146 -0.292078   \n",
       "1 -1.797889 -1.009833 -0.620726 -2.144312 -0.183314  2.675217 -0.227407   \n",
       "\n",
       "          H  \n",
       "0 -0.899751  \n",
       "1  0.262857  "
      ]
     },
     "execution_count": 3,
     "metadata": {},
     "output_type": "execute_result"
    }
   ],
   "source": [
    "df "
   ]
  },
  {
   "cell_type": "markdown",
   "metadata": {},
   "source": [
    "## Option 1: useful for DataFrames with few columns "
   ]
  },
  {
   "cell_type": "code",
   "execution_count": 4,
   "metadata": {},
   "outputs": [
    {
     "data": {
      "text/html": [
       "<div>\n",
       "<style scoped>\n",
       "    .dataframe tbody tr th:only-of-type {\n",
       "        vertical-align: middle;\n",
       "    }\n",
       "\n",
       "    .dataframe tbody tr th {\n",
       "        vertical-align: top;\n",
       "    }\n",
       "\n",
       "    .dataframe thead th {\n",
       "        text-align: right;\n",
       "    }\n",
       "</style>\n",
       "<table border=\"1\" class=\"dataframe\">\n",
       "  <thead>\n",
       "    <tr style=\"text-align: right;\">\n",
       "      <th></th>\n",
       "      <th>A</th>\n",
       "      <th>C</th>\n",
       "      <th>E</th>\n",
       "      <th>B</th>\n",
       "      <th>D</th>\n",
       "      <th>F</th>\n",
       "      <th>G</th>\n",
       "      <th>H</th>\n",
       "    </tr>\n",
       "  </thead>\n",
       "  <tbody>\n",
       "    <tr>\n",
       "      <th>0</th>\n",
       "      <td>-1.234045</td>\n",
       "      <td>-0.429188</td>\n",
       "      <td>-0.454964</td>\n",
       "      <td>0.231502</td>\n",
       "      <td>1.643448</td>\n",
       "      <td>-0.355146</td>\n",
       "      <td>-0.292078</td>\n",
       "      <td>-0.899751</td>\n",
       "    </tr>\n",
       "    <tr>\n",
       "      <th>1</th>\n",
       "      <td>-1.797889</td>\n",
       "      <td>-0.620726</td>\n",
       "      <td>-0.183314</td>\n",
       "      <td>-1.009833</td>\n",
       "      <td>-2.144312</td>\n",
       "      <td>2.675217</td>\n",
       "      <td>-0.227407</td>\n",
       "      <td>0.262857</td>\n",
       "    </tr>\n",
       "  </tbody>\n",
       "</table>\n",
       "</div>"
      ],
      "text/plain": [
       "          A         C         E         B         D         F         G  \\\n",
       "0 -1.234045 -0.429188 -0.454964  0.231502  1.643448 -0.355146 -0.292078   \n",
       "1 -1.797889 -0.620726 -0.183314 -1.009833 -2.144312  2.675217 -0.227407   \n",
       "\n",
       "          H  \n",
       "0 -0.899751  \n",
       "1  0.262857  "
      ]
     },
     "execution_count": 4,
     "metadata": {},
     "output_type": "execute_result"
    }
   ],
   "source": [
    "cols = ['A','C','E','B','D','F','G','H']\n",
    "df[cols] "
   ]
  },
  {
   "cell_type": "markdown",
   "metadata": {},
   "source": [
    "## Option 2: useful for DataFrames with many columns "
   ]
  },
  {
   "cell_type": "code",
   "execution_count": 5,
   "metadata": {},
   "outputs": [
    {
     "data": {
      "text/html": [
       "<div>\n",
       "<style scoped>\n",
       "    .dataframe tbody tr th:only-of-type {\n",
       "        vertical-align: middle;\n",
       "    }\n",
       "\n",
       "    .dataframe tbody tr th {\n",
       "        vertical-align: top;\n",
       "    }\n",
       "\n",
       "    .dataframe thead th {\n",
       "        text-align: right;\n",
       "    }\n",
       "</style>\n",
       "<table border=\"1\" class=\"dataframe\">\n",
       "  <thead>\n",
       "    <tr style=\"text-align: right;\">\n",
       "      <th></th>\n",
       "      <th>A</th>\n",
       "      <th>C</th>\n",
       "      <th>E</th>\n",
       "      <th>B</th>\n",
       "      <th>D</th>\n",
       "      <th>F</th>\n",
       "      <th>G</th>\n",
       "      <th>H</th>\n",
       "    </tr>\n",
       "  </thead>\n",
       "  <tbody>\n",
       "    <tr>\n",
       "      <th>0</th>\n",
       "      <td>-1.234045</td>\n",
       "      <td>-0.429188</td>\n",
       "      <td>-0.454964</td>\n",
       "      <td>0.231502</td>\n",
       "      <td>1.643448</td>\n",
       "      <td>-0.355146</td>\n",
       "      <td>-0.292078</td>\n",
       "      <td>-0.899751</td>\n",
       "    </tr>\n",
       "    <tr>\n",
       "      <th>1</th>\n",
       "      <td>-1.797889</td>\n",
       "      <td>-0.620726</td>\n",
       "      <td>-0.183314</td>\n",
       "      <td>-1.009833</td>\n",
       "      <td>-2.144312</td>\n",
       "      <td>2.675217</td>\n",
       "      <td>-0.227407</td>\n",
       "      <td>0.262857</td>\n",
       "    </tr>\n",
       "  </tbody>\n",
       "</table>\n",
       "</div>"
      ],
      "text/plain": [
       "          A         C         E         B         D         F         G  \\\n",
       "0 -1.234045 -0.429188 -0.454964  0.231502  1.643448 -0.355146 -0.292078   \n",
       "1 -1.797889 -0.620726 -0.183314 -1.009833 -2.144312  2.675217 -0.227407   \n",
       "\n",
       "          H  \n",
       "0 -0.899751  \n",
       "1  0.262857  "
      ]
     },
     "execution_count": 5,
     "metadata": {},
     "output_type": "execute_result"
    }
   ],
   "source": [
    "cols_to_move = ['A','C','E']\n",
    "cols = cols_to_move + [col for col in df if col not in cols_to_move]\n",
    "df[cols] "
   ]
  },
  {
   "cell_type": "markdown",
   "metadata": {},
   "source": [
    "## Option 3: useful for long column names"
   ]
  },
  {
   "cell_type": "code",
   "execution_count": 6,
   "metadata": {},
   "outputs": [
    {
     "data": {
      "text/html": [
       "<div>\n",
       "<style scoped>\n",
       "    .dataframe tbody tr th:only-of-type {\n",
       "        vertical-align: middle;\n",
       "    }\n",
       "\n",
       "    .dataframe tbody tr th {\n",
       "        vertical-align: top;\n",
       "    }\n",
       "\n",
       "    .dataframe thead th {\n",
       "        text-align: right;\n",
       "    }\n",
       "</style>\n",
       "<table border=\"1\" class=\"dataframe\">\n",
       "  <thead>\n",
       "    <tr style=\"text-align: right;\">\n",
       "      <th></th>\n",
       "      <th>A</th>\n",
       "      <th>C</th>\n",
       "      <th>E</th>\n",
       "      <th>B</th>\n",
       "      <th>D</th>\n",
       "      <th>F</th>\n",
       "      <th>G</th>\n",
       "      <th>H</th>\n",
       "    </tr>\n",
       "  </thead>\n",
       "  <tbody>\n",
       "    <tr>\n",
       "      <th>0</th>\n",
       "      <td>-1.234045</td>\n",
       "      <td>-0.429188</td>\n",
       "      <td>-0.454964</td>\n",
       "      <td>0.231502</td>\n",
       "      <td>1.643448</td>\n",
       "      <td>-0.355146</td>\n",
       "      <td>-0.292078</td>\n",
       "      <td>-0.899751</td>\n",
       "    </tr>\n",
       "    <tr>\n",
       "      <th>1</th>\n",
       "      <td>-1.797889</td>\n",
       "      <td>-0.620726</td>\n",
       "      <td>-0.183314</td>\n",
       "      <td>-1.009833</td>\n",
       "      <td>-2.144312</td>\n",
       "      <td>2.675217</td>\n",
       "      <td>-0.227407</td>\n",
       "      <td>0.262857</td>\n",
       "    </tr>\n",
       "  </tbody>\n",
       "</table>\n",
       "</div>"
      ],
      "text/plain": [
       "          A         C         E         B         D         F         G  \\\n",
       "0 -1.234045 -0.429188 -0.454964  0.231502  1.643448 -0.355146 -0.292078   \n",
       "1 -1.797889 -0.620726 -0.183314 -1.009833 -2.144312  2.675217 -0.227407   \n",
       "\n",
       "          H  \n",
       "0 -0.899751  \n",
       "1  0.262857  "
      ]
     },
     "execution_count": 6,
     "metadata": {},
     "output_type": "execute_result"
    }
   ],
   "source": [
    "cols = df.columns[[0,2,4,1,3,5,6,7]]\n",
    "df[cols] "
   ]
  }
 ],
 "metadata": {
  "kernelspec": {
   "display_name": "Python 3",
   "language": "python",
   "name": "python3"
  },
  "language_info": {
   "codemirror_mode": {
    "name": "ipython",
    "version": 3
   },
   "file_extension": ".py",
   "mimetype": "text/x-python",
   "name": "python",
   "nbconvert_exporter": "python",
   "pygments_lexer": "ipython3",
   "version": "3.7.1"
  }
 },
 "nbformat": 4,
 "nbformat_minor": 2
}
