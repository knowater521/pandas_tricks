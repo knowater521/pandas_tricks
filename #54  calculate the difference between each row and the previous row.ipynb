{
 "cells": [
  {
   "cell_type": "code",
   "execution_count": 1,
   "metadata": {},
   "outputs": [],
   "source": [
    "import pandas as pd "
   ]
  },
  {
   "cell_type": "code",
   "execution_count": 2,
   "metadata": {},
   "outputs": [],
   "source": [
    "df = pd.DataFrame({'Symbol': ['AAPL','AAPL','AAPL','AAPL','AAPL'],\n",
    "                  'Date': ['2019-8-20','2019-8-21','2019-8-22','2019-8-23','2019-8-26'],\n",
    "                  'Close': [210.36, 212.64, 212.46, 202.64, 206.49]}) "
   ]
  },
  {
   "cell_type": "code",
   "execution_count": 3,
   "metadata": {},
   "outputs": [
    {
     "data": {
      "text/html": [
       "<div>\n",
       "<style scoped>\n",
       "    .dataframe tbody tr th:only-of-type {\n",
       "        vertical-align: middle;\n",
       "    }\n",
       "\n",
       "    .dataframe tbody tr th {\n",
       "        vertical-align: top;\n",
       "    }\n",
       "\n",
       "    .dataframe thead th {\n",
       "        text-align: right;\n",
       "    }\n",
       "</style>\n",
       "<table border=\"1\" class=\"dataframe\">\n",
       "  <thead>\n",
       "    <tr style=\"text-align: right;\">\n",
       "      <th></th>\n",
       "      <th>Symbol</th>\n",
       "      <th>Date</th>\n",
       "      <th>Close</th>\n",
       "    </tr>\n",
       "  </thead>\n",
       "  <tbody>\n",
       "    <tr>\n",
       "      <th>0</th>\n",
       "      <td>AAPL</td>\n",
       "      <td>2019-8-20</td>\n",
       "      <td>210.36</td>\n",
       "    </tr>\n",
       "    <tr>\n",
       "      <th>1</th>\n",
       "      <td>AAPL</td>\n",
       "      <td>2019-8-21</td>\n",
       "      <td>212.64</td>\n",
       "    </tr>\n",
       "    <tr>\n",
       "      <th>2</th>\n",
       "      <td>AAPL</td>\n",
       "      <td>2019-8-22</td>\n",
       "      <td>212.46</td>\n",
       "    </tr>\n",
       "    <tr>\n",
       "      <th>3</th>\n",
       "      <td>AAPL</td>\n",
       "      <td>2019-8-23</td>\n",
       "      <td>202.64</td>\n",
       "    </tr>\n",
       "    <tr>\n",
       "      <th>4</th>\n",
       "      <td>AAPL</td>\n",
       "      <td>2019-8-26</td>\n",
       "      <td>206.49</td>\n",
       "    </tr>\n",
       "  </tbody>\n",
       "</table>\n",
       "</div>"
      ],
      "text/plain": [
       "  Symbol       Date   Close\n",
       "0   AAPL  2019-8-20  210.36\n",
       "1   AAPL  2019-8-21  212.64\n",
       "2   AAPL  2019-8-22  212.46\n",
       "3   AAPL  2019-8-23  202.64\n",
       "4   AAPL  2019-8-26  206.49"
      ]
     },
     "execution_count": 3,
     "metadata": {},
     "output_type": "execute_result"
    }
   ],
   "source": [
    "df"
   ]
  },
  {
   "cell_type": "markdown",
   "metadata": {},
   "source": [
    "## Calculate change from the previous day"
   ]
  },
  {
   "cell_type": "code",
   "execution_count": 4,
   "metadata": {},
   "outputs": [],
   "source": [
    "df['change'] = df.Close.diff()\n",
    "df['Percent Change'] = df.Close.pct_change()*100"
   ]
  },
  {
   "cell_type": "code",
   "execution_count": 5,
   "metadata": {},
   "outputs": [
    {
     "data": {
      "text/html": [
       "<div>\n",
       "<style scoped>\n",
       "    .dataframe tbody tr th:only-of-type {\n",
       "        vertical-align: middle;\n",
       "    }\n",
       "\n",
       "    .dataframe tbody tr th {\n",
       "        vertical-align: top;\n",
       "    }\n",
       "\n",
       "    .dataframe thead th {\n",
       "        text-align: right;\n",
       "    }\n",
       "</style>\n",
       "<table border=\"1\" class=\"dataframe\">\n",
       "  <thead>\n",
       "    <tr style=\"text-align: right;\">\n",
       "      <th></th>\n",
       "      <th>Symbol</th>\n",
       "      <th>Date</th>\n",
       "      <th>Close</th>\n",
       "      <th>change</th>\n",
       "      <th>Percent Change</th>\n",
       "    </tr>\n",
       "  </thead>\n",
       "  <tbody>\n",
       "    <tr>\n",
       "      <th>0</th>\n",
       "      <td>AAPL</td>\n",
       "      <td>2019-8-20</td>\n",
       "      <td>210.36</td>\n",
       "      <td>NaN</td>\n",
       "      <td>NaN</td>\n",
       "    </tr>\n",
       "    <tr>\n",
       "      <th>1</th>\n",
       "      <td>AAPL</td>\n",
       "      <td>2019-8-21</td>\n",
       "      <td>212.64</td>\n",
       "      <td>2.28</td>\n",
       "      <td>1.083856</td>\n",
       "    </tr>\n",
       "    <tr>\n",
       "      <th>2</th>\n",
       "      <td>AAPL</td>\n",
       "      <td>2019-8-22</td>\n",
       "      <td>212.46</td>\n",
       "      <td>-0.18</td>\n",
       "      <td>-0.084650</td>\n",
       "    </tr>\n",
       "    <tr>\n",
       "      <th>3</th>\n",
       "      <td>AAPL</td>\n",
       "      <td>2019-8-23</td>\n",
       "      <td>202.64</td>\n",
       "      <td>-9.82</td>\n",
       "      <td>-4.622047</td>\n",
       "    </tr>\n",
       "    <tr>\n",
       "      <th>4</th>\n",
       "      <td>AAPL</td>\n",
       "      <td>2019-8-26</td>\n",
       "      <td>206.49</td>\n",
       "      <td>3.85</td>\n",
       "      <td>1.899921</td>\n",
       "    </tr>\n",
       "  </tbody>\n",
       "</table>\n",
       "</div>"
      ],
      "text/plain": [
       "  Symbol       Date   Close  change  Percent Change\n",
       "0   AAPL  2019-8-20  210.36     NaN             NaN\n",
       "1   AAPL  2019-8-21  212.64    2.28        1.083856\n",
       "2   AAPL  2019-8-22  212.46   -0.18       -0.084650\n",
       "3   AAPL  2019-8-23  202.64   -9.82       -4.622047\n",
       "4   AAPL  2019-8-26  206.49    3.85        1.899921"
      ]
     },
     "execution_count": 5,
     "metadata": {},
     "output_type": "execute_result"
    }
   ],
   "source": [
    "df"
   ]
  },
  {
   "cell_type": "markdown",
   "metadata": {},
   "source": [
    "## Add formatting"
   ]
  },
  {
   "cell_type": "code",
   "execution_count": 6,
   "metadata": {},
   "outputs": [
    {
     "data": {
      "text/html": [
       "<style  type=\"text/css\" >\n",
       "</style><table id=\"T_ab4b4576_f321_11e9_b135_b82a72f2527c\" ><thead>    <tr>        <th class=\"blank level0\" ></th>        <th class=\"col_heading level0 col0\" >Symbol</th>        <th class=\"col_heading level0 col1\" >Date</th>        <th class=\"col_heading level0 col2\" >Close</th>        <th class=\"col_heading level0 col3\" >change</th>        <th class=\"col_heading level0 col4\" >Percent Change</th>    </tr></thead><tbody>\n",
       "                <tr>\n",
       "                        <th id=\"T_ab4b4576_f321_11e9_b135_b82a72f2527clevel0_row0\" class=\"row_heading level0 row0\" >0</th>\n",
       "                        <td id=\"T_ab4b4576_f321_11e9_b135_b82a72f2527crow0_col0\" class=\"data row0 col0\" >AAPL</td>\n",
       "                        <td id=\"T_ab4b4576_f321_11e9_b135_b82a72f2527crow0_col1\" class=\"data row0 col1\" >2019-8-20</td>\n",
       "                        <td id=\"T_ab4b4576_f321_11e9_b135_b82a72f2527crow0_col2\" class=\"data row0 col2\" >210.36</td>\n",
       "                        <td id=\"T_ab4b4576_f321_11e9_b135_b82a72f2527crow0_col3\" class=\"data row0 col3\" >nan</td>\n",
       "                        <td id=\"T_ab4b4576_f321_11e9_b135_b82a72f2527crow0_col4\" class=\"data row0 col4\" >nan%</td>\n",
       "            </tr>\n",
       "            <tr>\n",
       "                        <th id=\"T_ab4b4576_f321_11e9_b135_b82a72f2527clevel0_row1\" class=\"row_heading level0 row1\" >1</th>\n",
       "                        <td id=\"T_ab4b4576_f321_11e9_b135_b82a72f2527crow1_col0\" class=\"data row1 col0\" >AAPL</td>\n",
       "                        <td id=\"T_ab4b4576_f321_11e9_b135_b82a72f2527crow1_col1\" class=\"data row1 col1\" >2019-8-21</td>\n",
       "                        <td id=\"T_ab4b4576_f321_11e9_b135_b82a72f2527crow1_col2\" class=\"data row1 col2\" >212.64</td>\n",
       "                        <td id=\"T_ab4b4576_f321_11e9_b135_b82a72f2527crow1_col3\" class=\"data row1 col3\" >2.28</td>\n",
       "                        <td id=\"T_ab4b4576_f321_11e9_b135_b82a72f2527crow1_col4\" class=\"data row1 col4\" >1.08%</td>\n",
       "            </tr>\n",
       "            <tr>\n",
       "                        <th id=\"T_ab4b4576_f321_11e9_b135_b82a72f2527clevel0_row2\" class=\"row_heading level0 row2\" >2</th>\n",
       "                        <td id=\"T_ab4b4576_f321_11e9_b135_b82a72f2527crow2_col0\" class=\"data row2 col0\" >AAPL</td>\n",
       "                        <td id=\"T_ab4b4576_f321_11e9_b135_b82a72f2527crow2_col1\" class=\"data row2 col1\" >2019-8-22</td>\n",
       "                        <td id=\"T_ab4b4576_f321_11e9_b135_b82a72f2527crow2_col2\" class=\"data row2 col2\" >212.46</td>\n",
       "                        <td id=\"T_ab4b4576_f321_11e9_b135_b82a72f2527crow2_col3\" class=\"data row2 col3\" >-0.18</td>\n",
       "                        <td id=\"T_ab4b4576_f321_11e9_b135_b82a72f2527crow2_col4\" class=\"data row2 col4\" >-0.08%</td>\n",
       "            </tr>\n",
       "            <tr>\n",
       "                        <th id=\"T_ab4b4576_f321_11e9_b135_b82a72f2527clevel0_row3\" class=\"row_heading level0 row3\" >3</th>\n",
       "                        <td id=\"T_ab4b4576_f321_11e9_b135_b82a72f2527crow3_col0\" class=\"data row3 col0\" >AAPL</td>\n",
       "                        <td id=\"T_ab4b4576_f321_11e9_b135_b82a72f2527crow3_col1\" class=\"data row3 col1\" >2019-8-23</td>\n",
       "                        <td id=\"T_ab4b4576_f321_11e9_b135_b82a72f2527crow3_col2\" class=\"data row3 col2\" >202.64</td>\n",
       "                        <td id=\"T_ab4b4576_f321_11e9_b135_b82a72f2527crow3_col3\" class=\"data row3 col3\" >-9.82</td>\n",
       "                        <td id=\"T_ab4b4576_f321_11e9_b135_b82a72f2527crow3_col4\" class=\"data row3 col4\" >-4.62%</td>\n",
       "            </tr>\n",
       "            <tr>\n",
       "                        <th id=\"T_ab4b4576_f321_11e9_b135_b82a72f2527clevel0_row4\" class=\"row_heading level0 row4\" >4</th>\n",
       "                        <td id=\"T_ab4b4576_f321_11e9_b135_b82a72f2527crow4_col0\" class=\"data row4 col0\" >AAPL</td>\n",
       "                        <td id=\"T_ab4b4576_f321_11e9_b135_b82a72f2527crow4_col1\" class=\"data row4 col1\" >2019-8-26</td>\n",
       "                        <td id=\"T_ab4b4576_f321_11e9_b135_b82a72f2527crow4_col2\" class=\"data row4 col2\" >206.49</td>\n",
       "                        <td id=\"T_ab4b4576_f321_11e9_b135_b82a72f2527crow4_col3\" class=\"data row4 col3\" >3.85</td>\n",
       "                        <td id=\"T_ab4b4576_f321_11e9_b135_b82a72f2527crow4_col4\" class=\"data row4 col4\" >1.90%</td>\n",
       "            </tr>\n",
       "    </tbody></table>"
      ],
      "text/plain": [
       "<pandas.io.formats.style.Styler at 0x1bc11344710>"
      ]
     },
     "execution_count": 6,
     "metadata": {},
     "output_type": "execute_result"
    }
   ],
   "source": [
    "df.style.format({'Percent Change': '{:.2f}%'})"
   ]
  }
 ],
 "metadata": {
  "kernelspec": {
   "display_name": "Python 3",
   "language": "python",
   "name": "python3"
  },
  "language_info": {
   "codemirror_mode": {
    "name": "ipython",
    "version": 3
   },
   "file_extension": ".py",
   "mimetype": "text/x-python",
   "name": "python",
   "nbconvert_exporter": "python",
   "pygments_lexer": "ipython3",
   "version": "3.7.1"
  }
 },
 "nbformat": 4,
 "nbformat_minor": 2
}
