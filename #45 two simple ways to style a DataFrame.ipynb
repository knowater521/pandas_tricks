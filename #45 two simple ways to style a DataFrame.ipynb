{
 "cells": [
  {
   "cell_type": "code",
   "execution_count": 1,
   "metadata": {},
   "outputs": [],
   "source": [
    "import pandas as pd "
   ]
  },
  {
   "cell_type": "code",
   "execution_count": 2,
   "metadata": {},
   "outputs": [
    {
     "data": {
      "text/html": [
       "<div>\n",
       "<style scoped>\n",
       "    .dataframe tbody tr th:only-of-type {\n",
       "        vertical-align: middle;\n",
       "    }\n",
       "\n",
       "    .dataframe tbody tr th {\n",
       "        vertical-align: top;\n",
       "    }\n",
       "\n",
       "    .dataframe thead th {\n",
       "        text-align: right;\n",
       "    }\n",
       "</style>\n",
       "<table border=\"1\" class=\"dataframe\">\n",
       "  <thead>\n",
       "    <tr style=\"text-align: right;\">\n",
       "      <th></th>\n",
       "      <th>A</th>\n",
       "      <th>B</th>\n",
       "      <th>C</th>\n",
       "      <th>D</th>\n",
       "    </tr>\n",
       "  </thead>\n",
       "  <tbody>\n",
       "    <tr>\n",
       "      <th>0</th>\n",
       "      <td>0.0</td>\n",
       "      <td>0.0</td>\n",
       "      <td>foo1</td>\n",
       "      <td>2009-01-01</td>\n",
       "    </tr>\n",
       "    <tr>\n",
       "      <th>1</th>\n",
       "      <td>1.0</td>\n",
       "      <td>1.0</td>\n",
       "      <td>foo2</td>\n",
       "      <td>2009-01-02</td>\n",
       "    </tr>\n",
       "    <tr>\n",
       "      <th>2</th>\n",
       "      <td>2.0</td>\n",
       "      <td>0.0</td>\n",
       "      <td>foo3</td>\n",
       "      <td>2009-01-05</td>\n",
       "    </tr>\n",
       "    <tr>\n",
       "      <th>3</th>\n",
       "      <td>3.0</td>\n",
       "      <td>1.0</td>\n",
       "      <td>foo4</td>\n",
       "      <td>2009-01-06</td>\n",
       "    </tr>\n",
       "    <tr>\n",
       "      <th>4</th>\n",
       "      <td>4.0</td>\n",
       "      <td>0.0</td>\n",
       "      <td>foo5</td>\n",
       "      <td>2009-01-07</td>\n",
       "    </tr>\n",
       "  </tbody>\n",
       "</table>\n",
       "</div>"
      ],
      "text/plain": [
       "     A    B     C          D\n",
       "0  0.0  0.0  foo1 2009-01-01\n",
       "1  1.0  1.0  foo2 2009-01-02\n",
       "2  2.0  0.0  foo3 2009-01-05\n",
       "3  3.0  1.0  foo4 2009-01-06\n",
       "4  4.0  0.0  foo5 2009-01-07"
      ]
     },
     "execution_count": 2,
     "metadata": {},
     "output_type": "execute_result"
    }
   ],
   "source": [
    "df = pd.util.testing.makeMixedDataFrame()\n",
    "df "
   ]
  },
  {
   "cell_type": "markdown",
   "metadata": {},
   "source": [
    "## Hide index and set caption"
   ]
  },
  {
   "cell_type": "code",
   "execution_count": 3,
   "metadata": {},
   "outputs": [
    {
     "data": {
      "text/html": [
       "<style  type=\"text/css\" >\n",
       "</style><table id=\"T_839542e8_fa57_11e9_9baa_b82a72f2527c\" ><caption>My caption</caption><thead>    <tr>        <th class=\"col_heading level0 col0\" >A</th>        <th class=\"col_heading level0 col1\" >B</th>        <th class=\"col_heading level0 col2\" >C</th>        <th class=\"col_heading level0 col3\" >D</th>    </tr></thead><tbody>\n",
       "                <tr>\n",
       "                                <td id=\"T_839542e8_fa57_11e9_9baa_b82a72f2527crow0_col0\" class=\"data row0 col0\" >0</td>\n",
       "                        <td id=\"T_839542e8_fa57_11e9_9baa_b82a72f2527crow0_col1\" class=\"data row0 col1\" >0</td>\n",
       "                        <td id=\"T_839542e8_fa57_11e9_9baa_b82a72f2527crow0_col2\" class=\"data row0 col2\" >foo1</td>\n",
       "                        <td id=\"T_839542e8_fa57_11e9_9baa_b82a72f2527crow0_col3\" class=\"data row0 col3\" >2009-01-01 00:00:00</td>\n",
       "            </tr>\n",
       "            <tr>\n",
       "                                <td id=\"T_839542e8_fa57_11e9_9baa_b82a72f2527crow1_col0\" class=\"data row1 col0\" >1</td>\n",
       "                        <td id=\"T_839542e8_fa57_11e9_9baa_b82a72f2527crow1_col1\" class=\"data row1 col1\" >1</td>\n",
       "                        <td id=\"T_839542e8_fa57_11e9_9baa_b82a72f2527crow1_col2\" class=\"data row1 col2\" >foo2</td>\n",
       "                        <td id=\"T_839542e8_fa57_11e9_9baa_b82a72f2527crow1_col3\" class=\"data row1 col3\" >2009-01-02 00:00:00</td>\n",
       "            </tr>\n",
       "            <tr>\n",
       "                                <td id=\"T_839542e8_fa57_11e9_9baa_b82a72f2527crow2_col0\" class=\"data row2 col0\" >2</td>\n",
       "                        <td id=\"T_839542e8_fa57_11e9_9baa_b82a72f2527crow2_col1\" class=\"data row2 col1\" >0</td>\n",
       "                        <td id=\"T_839542e8_fa57_11e9_9baa_b82a72f2527crow2_col2\" class=\"data row2 col2\" >foo3</td>\n",
       "                        <td id=\"T_839542e8_fa57_11e9_9baa_b82a72f2527crow2_col3\" class=\"data row2 col3\" >2009-01-05 00:00:00</td>\n",
       "            </tr>\n",
       "            <tr>\n",
       "                                <td id=\"T_839542e8_fa57_11e9_9baa_b82a72f2527crow3_col0\" class=\"data row3 col0\" >3</td>\n",
       "                        <td id=\"T_839542e8_fa57_11e9_9baa_b82a72f2527crow3_col1\" class=\"data row3 col1\" >1</td>\n",
       "                        <td id=\"T_839542e8_fa57_11e9_9baa_b82a72f2527crow3_col2\" class=\"data row3 col2\" >foo4</td>\n",
       "                        <td id=\"T_839542e8_fa57_11e9_9baa_b82a72f2527crow3_col3\" class=\"data row3 col3\" >2009-01-06 00:00:00</td>\n",
       "            </tr>\n",
       "            <tr>\n",
       "                                <td id=\"T_839542e8_fa57_11e9_9baa_b82a72f2527crow4_col0\" class=\"data row4 col0\" >4</td>\n",
       "                        <td id=\"T_839542e8_fa57_11e9_9baa_b82a72f2527crow4_col1\" class=\"data row4 col1\" >0</td>\n",
       "                        <td id=\"T_839542e8_fa57_11e9_9baa_b82a72f2527crow4_col2\" class=\"data row4 col2\" >foo5</td>\n",
       "                        <td id=\"T_839542e8_fa57_11e9_9baa_b82a72f2527crow4_col3\" class=\"data row4 col3\" >2009-01-07 00:00:00</td>\n",
       "            </tr>\n",
       "    </tbody></table>"
      ],
      "text/plain": [
       "<pandas.io.formats.style.Styler at 0x2c580a1e5f8>"
      ]
     },
     "execution_count": 3,
     "metadata": {},
     "output_type": "execute_result"
    }
   ],
   "source": [
    "df.style.hide_index().set_caption(\"My caption\")"
   ]
  }
 ],
 "metadata": {
  "kernelspec": {
   "display_name": "Python 3",
   "language": "python",
   "name": "python3"
  },
  "language_info": {
   "codemirror_mode": {
    "name": "ipython",
    "version": 3
   },
   "file_extension": ".py",
   "mimetype": "text/x-python",
   "name": "python",
   "nbconvert_exporter": "python",
   "pygments_lexer": "ipython3",
   "version": "3.7.1"
  }
 },
 "nbformat": 4,
 "nbformat_minor": 2
}
